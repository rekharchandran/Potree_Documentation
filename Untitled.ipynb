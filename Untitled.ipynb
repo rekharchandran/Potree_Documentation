{
 "cells": [
  {
   "cell_type": "code",
   "execution_count": 2,
   "id": "3f18fb49",
   "metadata": {},
   "outputs": [
    {
     "name": "stdout",
     "output_type": "stream",
     "text": [
      "C:\\Users\\Rekha\\Desktop\\potreedoc\n"
     ]
    }
   ],
   "source": [
    "%cd  \"/Users/Rekha/Desktop/potreedoc\"\n"
   ]
  },
  {
   "cell_type": "code",
   "execution_count": 4,
   "id": "3ada975e",
   "metadata": {},
   "outputs": [
    {
     "name": "stdout",
     "output_type": "stream",
     "text": [
      "Running Sphinx v5.3.0\n",
      "loading pickled environment... done\n",
      "building [mo]: targets for 0 po files that are out of date\n",
      "building [html]: targets for 4 source files that are out of date\n",
      "updating environment: 0 added, 2 changed, 0 removed\n",
      "reading sources... [ 50%] Contents/Tools                                       \n",
      "reading sources... [100%] index                                                \n",
      "\n",
      "looking for now-outdated files... none found\n",
      "pickling environment... done\n",
      "checking consistency... done\n",
      "preparing documents... done\n",
      "writing output... [ 25%] Contents/Appearence                                   \n",
      "writing output... [ 50%] Contents/Scene                                        \n",
      "writing output... [ 75%] Contents/Tools                                        \n",
      "writing output... [100%] index                                                 \n",
      "\n",
      "generating indices... genindex done\n",
      "writing additional pages... search done\n",
      "copying images... [ 11%] images/pointbudget.png                                \n",
      "copying images... [ 22%] images/Tools.png                                      \n",
      "copying images... [ 33%] images/point.png                                      \n",
      "copying images... [ 44%] images/distance.png                                   \n",
      "copying images... [ 55%] images/height.png                                     \n",
      "copying images... [ 66%] images/circle.png                                     \n",
      "copying images... [ 77%] images/earth_controls_1.png                           \n",
      "copying images... [ 88%] images/helicopter_controls.png                        \n",
      "copying images... [100%] images/orbit_controls.png                             \n",
      "\n",
      "copying static files... done\n",
      "copying extra files... done\n",
      "dumping search index in English (code: en)... done\n",
      "dumping object inventory... done\n",
      "build succeeded, 2 warnings.\n",
      "\n",
      "The HTML pages are in build\\html.\n"
     ]
    },
    {
     "name": "stderr",
     "output_type": "stream",
     "text": [
      "C:\\Users\\Rekha\\Desktop\\potreedoc\\source\\Contents\\Tools.rst:15: WARNING: Definition list ends without a blank line; unexpected unindent.\n",
      "C:\\Users\\Rekha\\Desktop\\potreedoc\\source\\Contents\\Tools.rst:15: CRITICAL: Missing matching underline for section title overline.\n",
      "\n",
      "----------------------------------\n",
      ".. image:: /images/angle.png\n",
      "   :width: 100\n"
     ]
    }
   ],
   "source": [
    "!.\\make html\n"
   ]
  },
  {
   "cell_type": "code",
   "execution_count": 9,
   "id": "e5237052",
   "metadata": {},
   "outputs": [
    {
     "name": "stderr",
     "output_type": "stream",
     "text": [
      "'.' is not recognized as an internal or external command,\n",
      "operable program or batch file.\n"
     ]
    }
   ],
   "source": []
  },
  {
   "cell_type": "code",
   "execution_count": null,
   "id": "836ad3eb",
   "metadata": {},
   "outputs": [],
   "source": []
  }
 ],
 "metadata": {
  "kernelspec": {
   "display_name": "Python 3 (ipykernel)",
   "language": "python",
   "name": "python3"
  },
  "language_info": {
   "codemirror_mode": {
    "name": "ipython",
    "version": 3
   },
   "file_extension": ".py",
   "mimetype": "text/x-python",
   "name": "python",
   "nbconvert_exporter": "python",
   "pygments_lexer": "ipython3",
   "version": "3.9.12"
  }
 },
 "nbformat": 4,
 "nbformat_minor": 5
}
